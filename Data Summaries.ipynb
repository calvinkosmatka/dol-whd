{
 "cells": [
  {
   "cell_type": "code",
   "execution_count": null,
   "metadata": {},
   "outputs": [],
   "source": [
    "import pandas as pd"
   ]
  },
  {
   "cell_type": "code",
   "execution_count": null,
   "metadata": {},
   "outputs": [],
   "source": [
    "df = pd.read_csv(\"whd_whisard.csv\")"
   ]
  },
  {
   "cell_type": "code",
   "execution_count": null,
   "metadata": {},
   "outputs": [],
   "source": [
    "collapsed_data = df.groupby([\"naics_code_description\", \"st_cd\"])[\"case_violtn_cnt\", \"bw_atp_amt\", \"ee_violtd_cnt\", \"flsa_violtn_cnt\", \"flsa_bw_atp_amt\", \"sca_violtn_cnt\", \"mspa_violtn_cnt\", \"fmla_violtn_cnt\"].sum(axis=1).reset_index()\n",
    "collapsed_data.to_csv(\"summarized_WHD.csv\")"
   ]
  },
  {
   "cell_type": "code",
   "execution_count": null,
   "metadata": {},
   "outputs": [],
   "source": [
    "city_state_industry = df.groupby([\"naics_code_description\", \"st_cd\", \"cty_nm\"])[\"case_violtn_cnt\", \"bw_atp_amt\", \"ee_violtd_cnt\", \"flsa_violtn_cnt\", \"flsa_bw_atp_amt\", \"sca_violtn_cnt\", \"mspa_violtn_cnt\", \"fmla_violtn_cnt\"].sum(axis=1).reset_index()\n",
    "city_state_industry.to_csv(\"city_state_industry.csv\")"
   ]
  },
  {
   "cell_type": "code",
   "execution_count": null,
   "metadata": {},
   "outputs": [],
   "source": []
  }
 ],
 "metadata": {
  "kernelspec": {
   "display_name": "Python 3",
   "language": "python",
   "name": "python3"
  },
  "language_info": {
   "codemirror_mode": {
    "name": "ipython",
    "version": 3
   },
   "file_extension": ".py",
   "mimetype": "text/x-python",
   "name": "python",
   "nbconvert_exporter": "python",
   "pygments_lexer": "ipython3",
   "version": "3.6.3"
  }
 },
 "nbformat": 4,
 "nbformat_minor": 2
}
